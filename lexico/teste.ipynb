{
 "cells": [
  {
   "cell_type": "code",
   "execution_count": 1,
   "metadata": {},
   "outputs": [],
   "source": [
    "from analisador import Scanner"
   ]
  },
  {
   "cell_type": "code",
   "execution_count": 8,
   "metadata": {},
   "outputs": [
    {
     "name": "stdout",
     "output_type": "stream",
     "text": [
      "ERRO LÉXICO: Caractere inválido '@' na linha 0, coluna 37\n",
      "Classe: inicio, Lexema: 'inicio', Tipo: None\n",
      "Classe: varinicio, Lexema: 'varinicio', Tipo: None\n",
      "Classe: inteiro, Lexema: 'inteiro', Tipo: inteiro\n",
      "Classe: ID, Lexema: 'A', Tipo: nulo\n",
      "Classe: NUM, Lexema: '23', Tipo: inteiro\n",
      "Classe: NUM, Lexema: '23', Tipo: inteiro\n",
      "Classe: NUM, Lexema: '4', Tipo: inteiro\n",
      "Classe: ERRO, Lexema: 'NULO', Tipo: NULO\n",
      "Classe: varfim, Lexema: 'varfim', Tipo: None\n",
      "Classe: fim, Lexema: 'fim', Tipo: None\n"
     ]
    }
   ],
   "source": [
    "scanner = Scanner()\n",
    "codigo_teste = \"inicio varinicio inteiro A; 23 23.4 @ varfim fim\"\n",
    "tokens = []\n",
    "while True:\n",
    "    token = scanner.scanner(codigo_teste)\n",
    "    if token.classe == \"EOF\":\n",
    "        break\n",
    "    tokens.append(token)\n",
    "\n",
    "for token in tokens:\n",
    "    print(token)"
   ]
  },
  {
   "cell_type": "code",
   "execution_count": 3,
   "metadata": {},
   "outputs": [
    {
     "data": {
      "text/plain": [
       "{'inicio': <analisador.Token at 0x1faaae2b990>,\n",
       " 'varinicio': <analisador.Token at 0x1faab2dae10>,\n",
       " 'varfim': <analisador.Token at 0x1faab2db090>,\n",
       " 'escreva': <analisador.Token at 0x1faab2dae50>,\n",
       " 'leia': <analisador.Token at 0x1faab2db050>,\n",
       " 'se': <analisador.Token at 0x1faab2dadd0>,\n",
       " 'entao': <analisador.Token at 0x1faab2db710>,\n",
       " 'fimse': <analisador.Token at 0x1faab2dad90>,\n",
       " 'repita': <analisador.Token at 0x1faab2d9a10>,\n",
       " 'fimrepita': <analisador.Token at 0x1faab2d9850>,\n",
       " 'fim': <analisador.Token at 0x1faab2daed0>,\n",
       " 'inteiro': <analisador.Token at 0x1faab2db010>,\n",
       " 'literal': <analisador.Token at 0x1faab2db550>,\n",
       " 'real': <analisador.Token at 0x1faab2daa10>,\n",
       " 'A': <analisador.Token at 0x1faaae1dd10>,\n",
       " 'fimvarinicio': <analisador.Token at 0x1faab2dba50>}"
      ]
     },
     "execution_count": 3,
     "metadata": {},
     "output_type": "execute_result"
    }
   ],
   "source": [
    "scanner.tabela_de_simbolos"
   ]
  }
 ],
 "metadata": {
  "kernelspec": {
   "display_name": "Python 3",
   "language": "python",
   "name": "python3"
  },
  "language_info": {
   "codemirror_mode": {
    "name": "ipython",
    "version": 3
   },
   "file_extension": ".py",
   "mimetype": "text/x-python",
   "name": "python",
   "nbconvert_exporter": "python",
   "pygments_lexer": "ipython3",
   "version": "3.11.7"
  }
 },
 "nbformat": 4,
 "nbformat_minor": 2
}
