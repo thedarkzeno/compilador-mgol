{
 "cells": [
  {
   "cell_type": "code",
   "execution_count": 1,
   "metadata": {},
   "outputs": [
    {
     "name": "stdout",
     "output_type": "stream",
     "text": [
      "(False, False, <dfa.State object at 0x000002E62666A810>)\n",
      "(False, True, <dfa.State object at 0x000002E626668250>)\n",
      "(True, True, <dfa.State object at 0x000002E626668090>)\n",
      "(True, True, <dfa.State object at 0x000002E626668650>)\n"
     ]
    }
   ],
   "source": [
    "from analisador import Scanner"
   ]
  },
  {
   "cell_type": "code",
   "execution_count": 2,
   "metadata": {},
   "outputs": [
    {
     "name": "stdout",
     "output_type": "stream",
     "text": [
      "ERRO LÉXICO: Sequência de números inválida '@' na linha 0, coluna 8\n",
      "ERRO LÉXICO: Sequência de números inválida '@' na linha 2, coluna 21\n",
      "ERRO LÉXICO: Sequência de números inválida '@' na linha 2, coluna 31\n",
      "Classe: inicio, Lexema: 'inicio', Tipo: None\n",
      "Classe: ERRO, Lexema: '@', Tipo: NULO\n",
      "Classe: varinicio, Lexema: 'varinicio', Tipo: None\n",
      "Classe: inteiro, Lexema: 'inteiro', Tipo: inteiro\n",
      "Classe: ID, Lexema: 'A', Tipo: nulo\n",
      "Classe: ?, Lexema: ';', Tipo: nulo\n",
      "Classe: ?, Lexema: '23', Tipo: nulo\n",
      "Classe: ?, Lexema: '23.4', Tipo: nulo\n",
      "Classe: ERRO, Lexema: '@', Tipo: NULO\n",
      "Classe: ?, Lexema: '1.1', Tipo: nulo\n",
      "Classe: ID, Lexema: 'e54', Tipo: nulo\n",
      "Classe: ?, Lexema: '1', Tipo: nulo\n",
      "Classe: ERRO, Lexema: '@', Tipo: NULO\n",
      "Classe: ?, Lexema: '1', Tipo: nulo\n",
      "Classe: varfim, Lexema: 'varfim', Tipo: None\n",
      "Classe: fim, Lexema: 'fim', Tipo: None\n",
      "Classe: ?, Lexema: 'fim', Tipo: nulo\n"
     ]
    }
   ],
   "source": [
    "scanner = Scanner()\n",
    "codigo_teste = \"\"\"inicio @\n",
    "varinicio\n",
    "inteiro A; 23 23.4 @ 1.1e54 1@1 varfim fim\n",
    "fim\"\"\"\n",
    "tokens = []\n",
    "while True:\n",
    "    token = scanner.scanner(codigo_teste)\n",
    "    if token.classe == \"EOF\":\n",
    "        # print(token)\n",
    "        break\n",
    "    tokens.append(token)\n",
    "\n",
    "for token in tokens:\n",
    "    print(token)"
   ]
  }
 ],
 "metadata": {
  "kernelspec": {
   "display_name": "Python 3",
   "language": "python",
   "name": "python3"
  },
  "language_info": {
   "codemirror_mode": {
    "name": "ipython",
    "version": 3
   },
   "file_extension": ".py",
   "mimetype": "text/x-python",
   "name": "python",
   "nbconvert_exporter": "python",
   "pygments_lexer": "ipython3",
   "version": "3.11.7"
  }
 },
 "nbformat": 4,
 "nbformat_minor": 2
}
